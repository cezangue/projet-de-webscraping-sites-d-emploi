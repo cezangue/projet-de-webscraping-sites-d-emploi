{
 "cells": [
  {
   "cell_type": "markdown",
   "id": "dea56c39-ce76-459f-9e05-12564ed12f22",
   "metadata": {},
   "source": [
    "### <center> Projet: Utilisation de Beautiful Soup pour extraire les données </center>\n",
    "\n",
    "À l'issue de ce TP, vous serez en mesure de développer un programme capable de récupérer les données des offres d'emplois de data scientist.\n",
    "\n",
    "Etapes : \n",
    "- Vérifier si le site autorise le scraping\n",
    "- Obtenir la page web\n",
    "- Extraire les données du site\n",
    "- Gérer les erreurs\n",
    "- Stocker les données extraites\n",
    "\n",
    "\n"
   ]
  },
  {
   "cell_type": "markdown",
   "id": "72fcf507-c5cf-4eb4-a235-3e506fe416e0",
   "metadata": {},
   "source": [
    "### Analyse du robots.txt"
   ]
  },
  {
   "cell_type": "code",
   "execution_count": 1,
   "id": "fb6d6a7b-4c71-4db6-b045-d3601e778bd9",
   "metadata": {},
   "outputs": [],
   "source": [
    "import requests\n",
    "from urllib.parse import urljoin\n",
    "\n",
    "def get_robots_txt(url):\n",
    "        \"\"\"Récupère le contenu du fichier robots.txt\"\"\"\n",
    "        try:\n",
    "            name = url.split(\".\")[0]\n",
    "            # Construire l'URL du robots.txt\n",
    "            if not url.startswith(('http://', 'https://')):\n",
    "                url = 'https://' + url\n",
    "            robots_url = urljoin(url, '/robots.txt')\n",
    "            \n",
    "            # Faire la requête\n",
    "            response = requests.get(robots_url)\n",
    "            \n",
    "            if response.status_code == 200:\n",
    "                with open(f\"robot_{name}.txt\", \"w\") as file:\n",
    "                    file.write(response.text)\n",
    "                print(\"fichier crée\")\n",
    "            else:\n",
    "                print(f\"Erreur {response.status_code} pour {robots_url}\")\n",
    "               \n",
    "        except Exception as e:\n",
    "            print(f\"Erreur pget_robots_txtour {url}: {str(e)}\")\n"
   ]
  },
  {
   "cell_type": "code",
   "execution_count": 3,
   "id": "3ee15167-fe52-422c-b031-99494f867f37",
   "metadata": {},
   "outputs": [
    {
     "name": "stdout",
     "output_type": "stream",
     "text": [
      "fichier crée\n"
     ]
    }
   ],
   "source": [
    "get_robots_txt(\"linkedin.com\")"
   ]
  },
  {
   "cell_type": "code",
   "execution_count": 5,
   "id": "1fdf50ba-ca37-41bc-9e40-b8fa5dfbb5dd",
   "metadata": {},
   "outputs": [
    {
     "name": "stdout",
     "output_type": "stream",
     "text": [
      "fichier crée\n"
     ]
    }
   ],
   "source": [
    "get_robots_txt(\"welcometothejungle.com\")"
   ]
  },
  {
   "cell_type": "markdown",
   "id": "774095d8-0aed-4220-a076-133a5b70954c",
   "metadata": {},
   "source": [
    "### Obtenir la page\n",
    "\n",
    "\n",
    "À ce stade, l'étudiant devra effectuer deux tests. Premier test sans spécifier la variable `headers` dans la `request.get`. Second test en incluant la variable `headers`.\n",
    "\n",
    "Quelle interprétation peut-on en tirer ?"
   ]
  },
  {
   "cell_type": "code",
   "execution_count": 7,
   "id": "a2af73a2-9306-4990-9e8f-c7804a16ea8f",
   "metadata": {},
   "outputs": [],
   "source": [
    "root = \"https://www.analyticsinsight.net/data-science/top-50-data-science-jobs-on-linkedin\""
   ]
  },
  {
   "cell_type": "code",
   "execution_count": 25,
   "id": "9c358a35-3120-4ac4-ac8b-4daee2cf062d",
   "metadata": {},
   "outputs": [],
   "source": [
    "import requests\n",
    "from bs4 import BeautifulSoup\n",
    "\n",
    "def get_soup(url):\n",
    "        \"\"\"Obtenir le soup d'une page avec gestion des erreurs\"\"\"\n",
    "        headers = {\n",
    "            'User-Agent': 'Mozilla1/5.0 (Windows NT 10.0; Win64; x64) AppleWebKit/537.36 (KHTML, like Gecko) Chrome/91.0.4472.124 Safari/537.36'\n",
    "        }\n",
    "        try:\n",
    "            response = requests.get(url,headers=headers)\n",
    "            if response.status_code == 200:\n",
    "                return BeautifulSoup(response.content, 'html.parser')\n",
    "            else:\n",
    "                print(f\"Erreur {response.status_code}\")\n",
    "                return None\n",
    "        except Exception as e:\n",
    "            print(f\"Erreur: {e}\")\n",
    "            return None"
   ]
  },
  {
   "cell_type": "code",
   "execution_count": 13,
   "id": "1affaca4-1078-49b1-8327-6c7d042906a8",
   "metadata": {},
   "outputs": [],
   "source": [
    "soup2 = get_soup(root)"
   ]
  },
  {
   "cell_type": "code",
   "execution_count": 49,
   "id": "6a1b4411-9ccf-42b6-9245-118aaa6d96f0",
   "metadata": {},
   "outputs": [],
   "source": [
    "#soup2"
   ]
  },
  {
   "cell_type": "markdown",
   "id": "ef236d7a-aa19-40d7-bdc1-f2573cb09e4f",
   "metadata": {},
   "source": [
    "## TOP 50 DES JOBS DATA SCIENCE"
   ]
  },
  {
   "cell_type": "markdown",
   "id": "b435e2ab-bb36-418d-ab12-1b86ab341e3f",
   "metadata": {},
   "source": [
    "### Extraire les données de la page\n",
    "\n",
    "différence entre find() and select() [stackoverflow](https://stackoverflow.com/questions/38028384/beautifulsoup-difference-between-find-and-select)"
   ]
  },
  {
   "cell_type": "markdown",
   "id": "35374b05-e7a4-4437-8030-a933005f50e6",
   "metadata": {},
   "source": [
    "#### Trouver l'identifiant du conteneur des produits "
   ]
  },
  {
   "cell_type": "code",
   "execution_count": 15,
   "id": "11376f93-2111-4669-bc0b-711f1dd271e0",
   "metadata": {},
   "outputs": [],
   "source": [
    "job_info2 = soup2.select(\"div[data-test-id='text']\")"
   ]
  },
  {
   "cell_type": "code",
   "execution_count": 17,
   "id": "b82c33c4-a540-4897-9c3d-035de236538a",
   "metadata": {},
   "outputs": [
    {
     "data": {
      "text/plain": [
       "103"
      ]
     },
     "execution_count": 17,
     "metadata": {},
     "output_type": "execute_result"
    }
   ],
   "source": [
    "len(job_info2)"
   ]
  },
  {
   "cell_type": "code",
   "execution_count": 19,
   "id": "3097c7f6-50d4-438a-8afc-2506906872d0",
   "metadata": {},
   "outputs": [
    {
     "data": {
      "text/plain": [
       "<div class=\"arrow-component arr--text-element text-m_textElement__e3QEt text-m_dark__1TC18\" data-test-id=\"text\" style=\"color:#000\"><p><strong>Release Date:</strong> 1st July 2024</p><p><strong>City:</strong> Hyderabad</p><p><strong>Required Experience:</strong> 5+ years</p><p><strong>Salary Range:</strong> Not Disclosed</p><p><strong>Employment Type:</strong> Full Time</p><p><strong>Industry:</strong> Digital Transformation</p><p><strong>Key Skills:</strong> Designing, Building, and Deploying ML and DL models, PyTorch, TensorFlow</p><p><strong>Source:</strong> LinkedIn</p><p><strong>Reference Link:</strong> <a aria-label=\"content\" href=\"https://www.linkedin.com/posts/dr-sagar-a-k-94951565_digital-transformation-solutions-services-activity-7213442242621947905-s1nA?utm_source=share&amp;utm_medium=member_desktop\" target=\"_blank\">Web Synergies Machine Learning Engineer Job</a></p></div>"
      ]
     },
     "execution_count": 19,
     "metadata": {},
     "output_type": "execute_result"
    }
   ],
   "source": [
    "job_info2[100]"
   ]
  },
  {
   "cell_type": "code",
   "execution_count": 21,
   "id": "108ed057-3a57-4492-a345-b8b9e1cf74f0",
   "metadata": {},
   "outputs": [
    {
     "name": "stderr",
     "output_type": "stream",
     "text": [
      "C:\\Users\\celia\\anaconda3\\Lib\\site-packages\\soupsieve\\css_parser.py:856: FutureWarning: The pseudo class ':contains' is deprecated, ':-soup-contains' should be used moving forward.\n",
      "  warnings.warn(  # noqa: B028\n"
     ]
    },
    {
     "data": {
      "text/plain": [
       "'Release Date:30th June 2024'"
      ]
     },
     "execution_count": 21,
     "metadata": {},
     "output_type": "execute_result"
    }
   ],
   "source": [
    "job_info2[2].select_one(\"p:contains('Release Date')\").get_text(strip=True).replace(\"Release Date: \", \"\")"
   ]
  },
  {
   "cell_type": "code",
   "execution_count": 23,
   "id": "8d7a7b06-b614-493b-9d5d-69dc08926c7c",
   "metadata": {},
   "outputs": [
    {
     "data": {
      "text/plain": [
       "'City:Remote'"
      ]
     },
     "execution_count": 23,
     "metadata": {},
     "output_type": "execute_result"
    }
   ],
   "source": [
    "job_info2[2].select_one(\"p:contains('City')\").get_text(strip=True).split(\"City: \")[0]"
   ]
  },
  {
   "cell_type": "code",
   "execution_count": 25,
   "id": "08024e05-1fbf-4e5e-88a1-303f74178a99",
   "metadata": {},
   "outputs": [
    {
     "data": {
      "text/plain": [
       "'Required Experience:0-2 years'"
      ]
     },
     "execution_count": 25,
     "metadata": {},
     "output_type": "execute_result"
    }
   ],
   "source": [
    "job_info2[2].select_one(\"p:contains('Required Experience')\").get_text(strip=True).split(\"Required Experience: \")[0]"
   ]
  },
  {
   "cell_type": "code",
   "execution_count": 27,
   "id": "30a42b8d-6dc0-4993-8955-17f9c9057c99",
   "metadata": {},
   "outputs": [
    {
     "data": {
      "text/plain": [
       "'Salary Range:Not Disclosed'"
      ]
     },
     "execution_count": 27,
     "metadata": {},
     "output_type": "execute_result"
    }
   ],
   "source": [
    "job_info2[2].select_one(\"p:contains('Salary Range')\").get_text(strip=True).split(\"Salary Range: \")[0]"
   ]
  },
  {
   "cell_type": "code",
   "execution_count": 29,
   "id": "dd578d45-c56f-42e6-b24c-110cdfe0a8a5",
   "metadata": {},
   "outputs": [
    {
     "data": {
      "text/plain": [
       "'Employment Type:Full Time'"
      ]
     },
     "execution_count": 29,
     "metadata": {},
     "output_type": "execute_result"
    }
   ],
   "source": [
    "job_info2[2].select_one(\"p:contains('Employment Type')\").get_text(strip=True).split(\"Employment Type: \")[0]"
   ]
  },
  {
   "cell_type": "code",
   "execution_count": 31,
   "id": "c3463b72-9752-4ac8-9114-8876d99aae1e",
   "metadata": {},
   "outputs": [
    {
     "data": {
      "text/plain": [
       "'Industry:Food Delivery Platform'"
      ]
     },
     "execution_count": 31,
     "metadata": {},
     "output_type": "execute_result"
    }
   ],
   "source": [
    "job_info2[2].select_one(\"p:contains('Industry')\").get_text(strip=True).split(\"Industry: \")[0]"
   ]
  },
  {
   "cell_type": "code",
   "execution_count": 33,
   "id": "b1e318ae-d261-4f7b-9181-fc5e58496075",
   "metadata": {},
   "outputs": [
    {
     "data": {
      "text/plain": [
       "'Key Skills:Python, SQL, Spark, TensorFlow'"
      ]
     },
     "execution_count": 33,
     "metadata": {},
     "output_type": "execute_result"
    }
   ],
   "source": [
    "job_info2[2].select_one(\"p:contains('Key Skills')\").get_text(strip=True).split(\"Key Skills: \")[0]"
   ]
  },
  {
   "cell_type": "code",
   "execution_count": null,
   "id": "8936e1fd-7a5d-479c-a892-8bdbe73ed2b8",
   "metadata": {},
   "outputs": [],
   "source": []
  },
  {
   "cell_type": "markdown",
   "id": "304f1ebf-509c-4463-be91-1c7b5e1f9c59",
   "metadata": {},
   "source": [
    "#### Prendre une offre d'emploi et extraire tous les éléments\n",
    "\n",
    "Questions à répondre : \n",
    "- Quelle est le critère sélection (id ou class) ?\n",
    "- Cette approche fonctionne-t-elle avec tous les offre ?"
   ]
  },
  {
   "cell_type": "code",
   "execution_count": 35,
   "id": "09bf21f0-3b7b-4ce6-a9fc-7fbbbb17682c",
   "metadata": {},
   "outputs": [],
   "source": [
    "Date = []\n",
    "Salaires_moyens = []\n",
    "Compétences_demandées= []\n",
    "Experience = []\n",
    "Secteur_Activite = []\n",
    "Localisation= []\n",
    "Types_contrats= []"
   ]
  },
  {
   "cell_type": "markdown",
   "id": "86dfa21f-2428-46ea-acab-d19acbdb8c57",
   "metadata": {},
   "source": [
    "#### Scrapping de toutes les 50 offres "
   ]
  },
  {
   "cell_type": "code",
   "execution_count": 37,
   "id": "872e8314-c23e-4dd3-a17f-5a52a6271c71",
   "metadata": {},
   "outputs": [],
   "source": [
    "i = 2\n",
    "while i < (len(job_info2) - 2): \n",
    "    try:\n",
    "        release_date_tag = job_info2[i].select_one(\"p:contains('Release Date')\")\n",
    "        if release_date_tag:\n",
    "            Date.append(release_date_tag.get_text(strip=True).replace(\"Release Date: \", \"\"))\n",
    "        else:\n",
    "            Date.append(None)\n",
    "    except Exception as e:\n",
    "        Date.append(None)\n",
    "    \n",
    "    try:\n",
    "        city_tag = job_info2[i].select_one(\"p:contains('City')\")\n",
    "        if city_tag:\n",
    "            Localisation.append(city_tag.get_text(strip=True).replace(\"City: \", \"\"))\n",
    "        else:\n",
    "            Localisation.append(None)\n",
    "    except Exception as e:\n",
    "        Localisation.append(None)\n",
    "    \n",
    "    try:\n",
    "        experience_tag = job_info2[i].select_one(\"p:contains('Required Experience')\")\n",
    "        if experience_tag:\n",
    "            Experience.append(experience_tag.get_text(strip=True).replace(\"Required Experience: \", \"\"))\n",
    "        else:\n",
    "            Experience.append(None)\n",
    "    except Exception as e:\n",
    "        Experience.append(None)\n",
    "    \n",
    "    try:\n",
    "        skills_tag = job_info2[i].select_one(\"p:contains('Key Skills')\")\n",
    "        if skills_tag:\n",
    "            Compétences_demandées.append(skills_tag.get_text(strip=True).replace(\"Key Skills: \", \"\"))\n",
    "        else:\n",
    "            Compétences_demandées.append(None)\n",
    "    except Exception as e:\n",
    "        Compétences_demandées.append(None)\n",
    "    \n",
    "    try:\n",
    "        salary_tag = job_info2[i].select_one(\"p:contains('Salary Range')\")\n",
    "        if salary_tag:\n",
    "            Salaires_moyens.append(salary_tag.get_text(strip=True).replace(\"Salary Range: \", \"\"))\n",
    "        else:\n",
    "            Salaires_moyens.append(None)\n",
    "    except Exception as e:\n",
    "        Salaires_moyens.append(None)\n",
    "    \n",
    "    try:\n",
    "        contract_tag = job_info2[i].select_one(\"p:contains('Employment Type')\")\n",
    "        if contract_tag:\n",
    "            Types_contrats.append(contract_tag.get_text(strip=True).replace(\"Employment Type: \", \"\"))\n",
    "        else:\n",
    "            Types_contrats.append(None)\n",
    "    except Exception as e:\n",
    "        Types_contrats.append(None)\n",
    "    \n",
    "    try:\n",
    "        industry_tag = job_info2[i].select_one(\"p:contains('Industry')\")\n",
    "        if industry_tag:\n",
    "            Secteur_Activite.append(industry_tag.get_text(strip=True).replace(\"Industry: \", \"\"))\n",
    "        else:\n",
    "            Secteur_Activite.append(None)\n",
    "    except Exception as e:\n",
    "        Secteur_Activite.append(None)\n",
    "\n",
    "    i = i + 2\n",
    "\n",
    "\n",
    "\n",
    "    "
   ]
  },
  {
   "cell_type": "code",
   "execution_count": 39,
   "id": "aa10991f-ec50-4cb0-b1ea-166aa136ac3e",
   "metadata": {},
   "outputs": [],
   "source": [
    "import pandas as pd"
   ]
  },
  {
   "cell_type": "code",
   "execution_count": 41,
   "id": "4b14e432-342c-47f3-93dd-0ce3b8bc158a",
   "metadata": {},
   "outputs": [],
   "source": [
    "data2 = {\n",
    "    'Date': Date,\n",
    "    'Localisation': Localisation,\n",
    "    'Experience': Experience,\n",
    "    'Compétences_demandées': Compétences_demandées,\n",
    "    'Salaires_moyens': Salaires_moyens,\n",
    "    'Types_contrats': Types_contrats,\n",
    "    'Secteur_Activite': Secteur_Activite\n",
    "}\n",
    "\n",
    "df2 = pd.DataFrame(data2)\n",
    "#print(df2)"
   ]
  },
  {
   "cell_type": "code",
   "execution_count": 43,
   "id": "2300c3dc-f996-4549-82b2-b6330c97b887",
   "metadata": {},
   "outputs": [],
   "source": [
    "df2.to_csv(f'Offre_DS_Lk_50.csv', index=False, encoding='utf-8')\n"
   ]
  },
  {
   "cell_type": "code",
   "execution_count": null,
   "id": "dd725643-b541-4ea1-9af1-ded4f4841e66",
   "metadata": {},
   "outputs": [],
   "source": []
  },
  {
   "cell_type": "markdown",
   "id": "a33a08bc-685d-4501-b06a-29f370901a97",
   "metadata": {},
   "source": [
    "## WELCOME TO THE JUNGLE"
   ]
  },
  {
   "cell_type": "markdown",
   "id": "9c378169-13f7-4760-bc68-7e953268b7b0",
   "metadata": {},
   "source": [
    "#### Trouver l'identifiant du conteneur des produits"
   ]
  },
  {
   "cell_type": "markdown",
   "id": "6124030f-6e34-4f89-a566-30126d94ae0d",
   "metadata": {},
   "source": [
    "##### Approche iterative"
   ]
  },
  {
   "cell_type": "code",
   "execution_count": 67,
   "id": "fc7a7693-ecd3-43b8-be47-4b1038b7ae33",
   "metadata": {},
   "outputs": [],
   "source": [
    "soup = get_soup(\"https://www.welcometothejungle.com/fr/companies/zeffy/jobs/full-stack-data-scientist_paris?q=8f542bd7644f22ec43784937c077daee&o=8be82671-b057-4238-9091-df5a1069e25a\")"
   ]
  },
  {
   "cell_type": "code",
   "execution_count": 14,
   "id": "f6a91c07-8beb-47c8-aff5-211130a3a82c",
   "metadata": {},
   "outputs": [],
   "source": [
    "#soup"
   ]
  },
  {
   "cell_type": "code",
   "execution_count": 7,
   "id": "109cef48-e0f9-437d-ac5e-8b73251f520a",
   "metadata": {},
   "outputs": [
    {
     "data": {
      "text/plain": [
       "<div class=\"sc-bXCLTC cWuusC\"><div class=\"sc-bXCLTC hGtksh\"><div class=\"sc-bXCLTC hdepoj\"><div class=\"sc-kgOKUu jtkJmT\" variant=\"default\" w=\"fit-content\"><i class=\"sc-camqpD ixTeso wui-icon-font\" name=\"contract\"></i>CDI</div><div class=\"sc-kgOKUu jtkJmT\" variant=\"default\" w=\"fit-content\"><i class=\"sc-camqpD cdHLAr wui-icon-font\" name=\"location\"></i><span class=\"sc-cIfMiO eeuvdh\"><span class=\"sc-EElJA lfdfiP\">Paris</span></span></div><div class=\"sc-kgOKUu jtkJmT\" variant=\"default\" w=\"fit-content\"><i class=\"sc-camqpD eTbujJ wui-icon-font\" name=\"salary\"></i><span class=\"sc-bXCLTC kJcLKT\">Salaire : </span>50K à 70K €</div><div class=\"sc-kgOKUu jtkJmT\" variant=\"default\" w=\"fit-content\"><i class=\"sc-camqpD gOcjnm wui-icon-font\" name=\"remote\"></i><span>Télétravail fréquent</span><span class=\"sc-bXCLTC iGeUCm\"><i class=\"sc-camqpD joAPZn wui-icon-font\" name=\"information_outline\"></i></span><span hidden=\"\" id=\":Rbdj2an3a:\" style=\"position:fixed\"></span></div><div class=\"sc-kgOKUu jtkJmT\" variant=\"default\" w=\"fit-content\"><i class=\"sc-camqpD cLAAJP wui-icon-font\" name=\"suitcase\"></i><span class=\"sc-bXCLTC kJcLKT\">Expérience : </span>&gt; 6 mois</div></div></div></div>"
      ]
     },
     "execution_count": 7,
     "metadata": {},
     "output_type": "execute_result"
    }
   ],
   "source": [
    "job_infos"
   ]
  },
  {
   "cell_type": "code",
   "execution_count": 9,
   "id": "34c4d3e3-d1c6-4cfc-bc9f-443019384cf6",
   "metadata": {},
   "outputs": [
    {
     "data": {
      "text/plain": [
       "'CDIParisSalaire : 50K à 70K\\xa0€Télétravail fréquentExpérience : > 6 mois'"
      ]
     },
     "execution_count": 9,
     "metadata": {},
     "output_type": "execute_result"
    }
   ],
   "source": [
    "job_infos.text.strip()"
   ]
  },
  {
   "cell_type": "code",
   "execution_count": 22,
   "id": "3b2b0115-6241-46f4-a31c-5bb32342ea01",
   "metadata": {},
   "outputs": [],
   "source": [
    "elements = soup.find_all('div', class_=\"sc-kgOKUu jtkJmT\")"
   ]
  },
  {
   "cell_type": "code",
   "execution_count": 30,
   "id": "127410ce-b956-45b7-9f6e-9f4c8146ab99",
   "metadata": {},
   "outputs": [
    {
     "name": "stdout",
     "output_type": "stream",
     "text": [
      "CDI\n",
      "Paris\n",
      "Salaire : 50K à 70K €\n",
      "Télétravail fréquent\n",
      "Expérience : > 6 mois\n"
     ]
    }
   ],
   "source": [
    "for element in elements:\n",
    "        print(element.text.strip())"
   ]
  },
  {
   "cell_type": "code",
   "execution_count": 32,
   "id": "1c8b5751-73d0-40e8-a34a-b66ce535abac",
   "metadata": {},
   "outputs": [],
   "source": [
    "competences_elements = soup.find_all('div', class_=\"sc-kgOKUu hRRfVz\")"
   ]
  },
  {
   "cell_type": "code",
   "execution_count": 36,
   "id": "86ece628-fe45-4e88-ac65-954fd10e4559",
   "metadata": {},
   "outputs": [],
   "source": [
    "for element in competences_elements:\n",
    "    print(element.text.strip())\n"
   ]
  },
  {
   "cell_type": "code",
   "execution_count": 38,
   "id": "580acab6-ba89-4fb4-b82e-79edcab116bc",
   "metadata": {},
   "outputs": [],
   "source": [
    "additional_info = soup.find('div', class_=\"sc-bXCLTC dBpdut\")"
   ]
  },
  {
   "cell_type": "code",
   "execution_count": 40,
   "id": "51fd9e04-6870-412e-84dd-cf5575a26ac1",
   "metadata": {},
   "outputs": [
    {
     "data": {
      "text/plain": [
       "'ZeffyFinTech / InsurTech, SocialTech / GreenTech35 collaborateursCréée en 2017Âge moyen : 29 ans42%58%Voir le siteVoir toutes les offres5Qui sont-ils ?Chaque année, les associations et organismes de charité dépensent 3 milliards de dollar de dons en frais de transaction. Zeffy met un terme à cette perte, en offrant la première plateforme de collecte de fonds 100% gratuite.EngagementsB CorpLe lieu de travail14 Cité Griset, 75011 Paris, France'"
      ]
     },
     "execution_count": 40,
     "metadata": {},
     "output_type": "execute_result"
    }
   ],
   "source": [
    "additional_info.text.strip()"
   ]
  },
  {
   "cell_type": "markdown",
   "id": "bdf8f976-4aec-4db1-b709-172f1cdc5f8c",
   "metadata": {},
   "source": [
    "##### Généralisation "
   ]
  },
  {
   "cell_type": "code",
   "execution_count": 77,
   "id": "cabe69c9-a65c-42a0-bc2d-ff681f2094fc",
   "metadata": {},
   "outputs": [],
   "source": [
    "def Job_Info(url):\n",
    "    soup = get_soup(url)\n",
    "    \n",
    "    Liste = []\n",
    "\n",
    "    job_infos = soup.find('div', class_=\"sc-bXCLTC cWuusC\")\n",
    "    \n",
    "    if job_infos and job_infos.text.strip():\n",
    "        Liste.append(job_infos.text.strip())\n",
    "    else:\n",
    "        Liste.append(None)\n",
    "\n",
    "    Coompetences = []\n",
    "    competences_elements = soup.find_all('div', class_=\"sc-kgOKUu hRRfVz\")\n",
    "    for element in competences_elements:\n",
    "        if element:\n",
    "            Coompetences.append(element.text.strip())\n",
    "        else:\n",
    "            Coompetences.append(None)\n",
    "    Liste.append(Coompetences)\n",
    "\n",
    "    additional_info = soup.find('div', class_=\"sc-bXCLTC dBpdut\")\n",
    "    if additional_info:\n",
    "        Liste.append(additional_info.text.strip())\n",
    "    else:\n",
    "        Liste.append(None)\n",
    "    \n",
    "    return Liste\n"
   ]
  },
  {
   "cell_type": "markdown",
   "id": "3e4625a3-cc49-4efa-8e43-8dbe4b1d4ec1",
   "metadata": {},
   "source": [
    "#### Approche en ce qui concerne le lien "
   ]
  },
  {
   "cell_type": "code",
   "execution_count": 153,
   "id": "c1dc2f27-6b15-40d3-8c52-54d2ae975678",
   "metadata": {},
   "outputs": [],
   "source": [
    "root=\"https://www.welcometothejungle.com/fr/jobs?query=data%20scientist&aroundQuery=worldwide&page=1\""
   ]
  },
  {
   "cell_type": "code",
   "execution_count": 155,
   "id": "760ae9d1-e0cd-413e-ab1f-88a9129c15c0",
   "metadata": {},
   "outputs": [],
   "source": [
    "soup4 = get_soup(root)\n",
    "    "
   ]
  },
  {
   "cell_type": "code",
   "execution_count": 127,
   "id": "fb376cc5-02d7-4e56-bd67-e0bd135ec058",
   "metadata": {},
   "outputs": [],
   "source": [
    "#soup4"
   ]
  },
  {
   "cell_type": "code",
   "execution_count": 157,
   "id": "f4e9de06-0de8-46ed-b67b-7437b3f62e73",
   "metadata": {},
   "outputs": [],
   "source": [
    "Lien_T = soup4.find_all('div',class_='sc-bXCLTC kkKAOM ais-Hits-list-item')"
   ]
  },
  {
   "cell_type": "code",
   "execution_count": 1,
   "id": "211b465e-38f1-4c7c-b74e-0b185018cb6b",
   "metadata": {},
   "outputs": [],
   "source": [
    "#Lien_T"
   ]
  },
  {
   "cell_type": "markdown",
   "id": "0b818777-810a-4191-9850-c95eed9e3475",
   "metadata": {},
   "source": [
    "#### Combinaison entre Selenium et Beautiful soup"
   ]
  },
  {
   "cell_type": "code",
   "execution_count": 5,
   "id": "475fee57-c330-43b2-9465-5dc1a648fc60",
   "metadata": {},
   "outputs": [],
   "source": [
    "import time\n",
    "from selenium import webdriver\n",
    "from selenium.webdriver.chrome.service import Service\n",
    "from webdriver_manager.chrome import ChromeDriverManager\n"
   ]
  },
  {
   "cell_type": "code",
   "execution_count": 3,
   "id": "288d05de-17a0-44da-ba35-a89e9c5e73f3",
   "metadata": {},
   "outputs": [],
   "source": [
    "def get_elements_by_class(url, loading_time=30, target_class=\"sc-bXCLTC kkKAOM ais-Hits-list-item\"):\n",
    "    \n",
    "    Liens1 =[]\n",
    "\n",
    "    # Initialisez le driver Chrome\n",
    "    driver = webdriver.Chrome(service=Service(ChromeDriverManager().install()))\n",
    "\n",
    "    try:\n",
    "        # Chargez l'URL\n",
    "        driver.get(url)\n",
    "\n",
    "        # Attendez que le contenu de la page soit chargé pendant le temps défini\n",
    "        time.sleep(loading_time)  # Utilisez `sleep` pour attendre la durée spécifiée\n",
    "\n",
    "        # Obtenez le contenu de la page\n",
    "        page_source = driver.page_source\n",
    "\n",
    "    except Exception as e:\n",
    "        print(f\"Erreur: {e}\")\n",
    "        return None\n",
    "\n",
    "    finally:\n",
    "         # Fermez le driver\n",
    "        driver.quit()\n",
    "\n",
    "    # Utilisez BeautifulSoup pour analyser le contenu de la page\n",
    "    soup = BeautifulSoup(page_source, 'html.parser')\n",
    "\n",
    "    # Trouvez les éléments ayant la classe spécifiée\n",
    "    elements = soup.find_all(class_=target_class)\n",
    "\n",
    "    \n",
    "\n",
    "    for j in range(len(elements)) :\n",
    "        \n",
    "        Liens1.append(elements[j].select_one('a')['href'])\n",
    "\n",
    "    return Liens1\n"
   ]
  },
  {
   "cell_type": "markdown",
   "id": "5731c3ce-4fbd-4a7f-8204-d630447399e4",
   "metadata": {},
   "source": [
    "##### Généralisation"
   ]
  },
  {
   "cell_type": "code",
   "execution_count": 13,
   "id": "33c894eb-ac21-48e3-967b-0c89114bd38c",
   "metadata": {},
   "outputs": [],
   "source": [
    "Liens= []\n",
    "for i in range(1, 13):\n",
    "    \n",
    "    url = f\"https://www.welcometothejungle.com/fr/jobs?query=data%20scientist&aroundQuery=worldwide&page=\" + str(i)\n",
    "\n",
    "    Lien_T = get_elements_by_class(url, loading_time=30, target_class=\"sc-bXCLTC kkKAOM ais-Hits-list-item\")\n",
    "    \n",
    "    for j in range(len(Lien_T)) :\n",
    "        \n",
    "        Liens.append(Lien_T[j])\n",
    "    \n",
    "\n",
    "\n"
   ]
  },
  {
   "cell_type": "code",
   "execution_count": 25,
   "id": "11436af6-9427-4d96-adc9-769cca46e527",
   "metadata": {},
   "outputs": [],
   "source": [
    "#Liens"
   ]
  },
  {
   "cell_type": "code",
   "execution_count": 15,
   "id": "840f6aa6-b9bc-4225-9915-0973602c7b19",
   "metadata": {},
   "outputs": [
    {
     "data": {
      "text/plain": [
       "350"
      ]
     },
     "execution_count": 15,
     "metadata": {},
     "output_type": "execute_result"
    }
   ],
   "source": [
    "len(Liens)"
   ]
  },
  {
   "cell_type": "code",
   "execution_count": 19,
   "id": "19dec6fe-0f6e-414a-8f21-89e7f889ac50",
   "metadata": {},
   "outputs": [],
   "source": [
    "#Liens"
   ]
  },
  {
   "cell_type": "markdown",
   "id": "6dd3eb63-e389-49b5-bc54-6f99903f92ea",
   "metadata": {},
   "source": [
    "#### Base de donnée de liens"
   ]
  },
  {
   "cell_type": "code",
   "execution_count": 21,
   "id": "afead3cf-9dbf-4b7c-a423-ebc3d1e237c5",
   "metadata": {},
   "outputs": [],
   "source": [
    "import pandas as pd\n",
    "\n",
    "data_liens = {'Liens': Liens}\n",
    "df_liens = pd.DataFrame(data_liens)"
   ]
  },
  {
   "cell_type": "code",
   "execution_count": 23,
   "id": "4628e55f-28ad-42fd-a0b8-a3a673b5b708",
   "metadata": {},
   "outputs": [],
   "source": [
    "df_liens.to_csv(f'Base_Liens.csv', index=False, encoding='utf-8')"
   ]
  },
  {
   "cell_type": "markdown",
   "id": "c3113249-9015-4644-9b1b-35ea68b93082",
   "metadata": {},
   "source": [
    "#### Base de donnée des offres de travail "
   ]
  },
  {
   "cell_type": "code",
   "execution_count": 29,
   "id": "6e565895-6912-457e-9185-a89e95fda0e1",
   "metadata": {},
   "outputs": [],
   "source": [
    "Infos_jobs = []\n",
    "Compétences_demandées = []\n",
    "Secteur_Activite = []\n"
   ]
  },
  {
   "cell_type": "code",
   "execution_count": 31,
   "id": "1385bb9c-2984-4f5e-948a-9e98789ecd27",
   "metadata": {},
   "outputs": [],
   "source": [
    "base =\"https://www.welcometothejungle.com\"\n",
    "data = {\n",
    "    'Infos_jobs': Infos_jobs,\n",
    "    'Compétences_demandées': Compétences_demandées,\n",
    "    'Secteur_Activite': Secteur_Activite\n",
    "}\n"
   ]
  },
  {
   "cell_type": "code",
   "execution_count": 33,
   "id": "e9ae4547-3b43-43e8-866c-61fc4ec3529d",
   "metadata": {},
   "outputs": [],
   "source": [
    "from tqdm import tqdm"
   ]
  },
  {
   "cell_type": "markdown",
   "id": "ac1d46a8-d271-4b37-af9a-083a49b2c6b8",
   "metadata": {},
   "source": [
    "#### Scraping des données"
   ]
  },
  {
   "cell_type": "code",
   "execution_count": 35,
   "id": "a1552fb6-d8ec-4379-b938-e713e44eb26d",
   "metadata": {},
   "outputs": [
    {
     "name": "stderr",
     "output_type": "stream",
     "text": [
      "100%|████████████████████████████████████████████████████████████████████████████████| 350/350 [22:16<00:00,  3.82s/it]\n"
     ]
    }
   ],
   "source": [
    "for r in tqdm(Liens) :\n",
    "    url = base+r\n",
    "    \n",
    "    Job_Info(url)\n",
    "    \n",
    "    Infos_jobs.append(Job_Info(url)[0])\n",
    "    Compétences_demandées.append(Job_Info(url)[1])\n",
    "    Secteur_Activite.append(Job_Info(url)[2])\n",
    "    "
   ]
  },
  {
   "cell_type": "code",
   "execution_count": 39,
   "id": "5118e53e-9867-4313-a8ee-0e877c0250d8",
   "metadata": {},
   "outputs": [],
   "source": [
    "#data"
   ]
  },
  {
   "cell_type": "code",
   "execution_count": 41,
   "id": "085fa134-5f9f-40fd-a676-0fb1ecb9ba68",
   "metadata": {},
   "outputs": [],
   "source": [
    "df = pd.DataFrame(data)"
   ]
  },
  {
   "cell_type": "code",
   "execution_count": 43,
   "id": "cece0d10-d0fe-4d27-8c6c-1ed9667bbb0c",
   "metadata": {},
   "outputs": [
    {
     "data": {
      "text/html": [
       "<div>\n",
       "<style scoped>\n",
       "    .dataframe tbody tr th:only-of-type {\n",
       "        vertical-align: middle;\n",
       "    }\n",
       "\n",
       "    .dataframe tbody tr th {\n",
       "        vertical-align: top;\n",
       "    }\n",
       "\n",
       "    .dataframe thead th {\n",
       "        text-align: right;\n",
       "    }\n",
       "</style>\n",
       "<table border=\"1\" class=\"dataframe\">\n",
       "  <thead>\n",
       "    <tr style=\"text-align: right;\">\n",
       "      <th></th>\n",
       "      <th>Infos_jobs</th>\n",
       "      <th>Compétences_demandées</th>\n",
       "      <th>Secteur_Activite</th>\n",
       "    </tr>\n",
       "  </thead>\n",
       "  <tbody>\n",
       "    <tr>\n",
       "      <th>0</th>\n",
       "      <td>Résumé du posteCDISuresnesSalaire : Non spécif...</td>\n",
       "      <td>[Leadership, Compétences en communication, Pys...</td>\n",
       "      <td>AXABanque, Assurance, FinTech / InsurTech21889...</td>\n",
       "    </tr>\n",
       "    <tr>\n",
       "      <th>1</th>\n",
       "      <td>Résumé du posteCDINantesSalaire : Non spécifié...</td>\n",
       "      <td>[Gitlab, Sonarqube, Sql, Python, Klaxoon]</td>\n",
       "      <td>BNP ParibasBanque183883 collaborateursCréée en...</td>\n",
       "    </tr>\n",
       "    <tr>\n",
       "      <th>2</th>\n",
       "      <td>CDIBoulogne-BillancourtSalaire : Non spécifiéT...</td>\n",
       "      <td>[]</td>\n",
       "      <td>Renault DigitalIntelligence artificielle / Mac...</td>\n",
       "    </tr>\n",
       "    <tr>\n",
       "      <th>3</th>\n",
       "      <td>Résumé du posteStageSophia-AntipolisSalaire : ...</td>\n",
       "      <td>[Créativité, Java, Scala, Segment, Sonar]</td>\n",
       "      <td>ThalesLogiciels, Cybersécurité, Aéronautique /...</td>\n",
       "    </tr>\n",
       "    <tr>\n",
       "      <th>4</th>\n",
       "      <td>Alternance(12 mois)Charenton-le-PontSalaire : ...</td>\n",
       "      <td>[]</td>\n",
       "      <td>Groupe BPCEBanque, FinTech / InsurTech, Financ...</td>\n",
       "    </tr>\n",
       "    <tr>\n",
       "      <th>...</th>\n",
       "      <td>...</td>\n",
       "      <td>...</td>\n",
       "      <td>...</td>\n",
       "    </tr>\n",
       "    <tr>\n",
       "      <th>345</th>\n",
       "      <td>Résumé du posteCDIParisSalaire : Non spécifiéD...</td>\n",
       "      <td>[Compétences en communication, Compétences en ...</td>\n",
       "      <td>MetroscopeLogiciels, Intelligence artificielle...</td>\n",
       "    </tr>\n",
       "    <tr>\n",
       "      <th>346</th>\n",
       "      <td>Résumé du posteCDINiortSalaire : Non spécifiéT...</td>\n",
       "      <td>[Segment, Aws]</td>\n",
       "      <td>MicropoleIT / Digital1200 collaborateursCréée ...</td>\n",
       "    </tr>\n",
       "    <tr>\n",
       "      <th>347</th>\n",
       "      <td>StagePierrelatteSalaire : Non spécifiéTélétrav...</td>\n",
       "      <td>[]</td>\n",
       "      <td>OranoIngénieries Spécialisées, Energie17500 co...</td>\n",
       "    </tr>\n",
       "    <tr>\n",
       "      <th>348</th>\n",
       "      <td>Résumé du posteCDILevallois-PerretSalaire : No...</td>\n",
       "      <td>[Azure, Segment, Aws]</td>\n",
       "      <td>MicropoleIT / Digital1200 collaborateursCréée ...</td>\n",
       "    </tr>\n",
       "    <tr>\n",
       "      <th>349</th>\n",
       "      <td>Résumé du posteCDILevallois-PerretSalaire : No...</td>\n",
       "      <td>[Oracle, Mulesoft, Azure, Segment, Aws]</td>\n",
       "      <td>MicropoleIT / Digital1200 collaborateursCréée ...</td>\n",
       "    </tr>\n",
       "  </tbody>\n",
       "</table>\n",
       "<p>350 rows × 3 columns</p>\n",
       "</div>"
      ],
      "text/plain": [
       "                                            Infos_jobs  \\\n",
       "0    Résumé du posteCDISuresnesSalaire : Non spécif...   \n",
       "1    Résumé du posteCDINantesSalaire : Non spécifié...   \n",
       "2    CDIBoulogne-BillancourtSalaire : Non spécifiéT...   \n",
       "3    Résumé du posteStageSophia-AntipolisSalaire : ...   \n",
       "4    Alternance(12 mois)Charenton-le-PontSalaire : ...   \n",
       "..                                                 ...   \n",
       "345  Résumé du posteCDIParisSalaire : Non spécifiéD...   \n",
       "346  Résumé du posteCDINiortSalaire : Non spécifiéT...   \n",
       "347  StagePierrelatteSalaire : Non spécifiéTélétrav...   \n",
       "348  Résumé du posteCDILevallois-PerretSalaire : No...   \n",
       "349  Résumé du posteCDILevallois-PerretSalaire : No...   \n",
       "\n",
       "                                 Compétences_demandées  \\\n",
       "0    [Leadership, Compétences en communication, Pys...   \n",
       "1            [Gitlab, Sonarqube, Sql, Python, Klaxoon]   \n",
       "2                                                   []   \n",
       "3            [Créativité, Java, Scala, Segment, Sonar]   \n",
       "4                                                   []   \n",
       "..                                                 ...   \n",
       "345  [Compétences en communication, Compétences en ...   \n",
       "346                                     [Segment, Aws]   \n",
       "347                                                 []   \n",
       "348                              [Azure, Segment, Aws]   \n",
       "349            [Oracle, Mulesoft, Azure, Segment, Aws]   \n",
       "\n",
       "                                      Secteur_Activite  \n",
       "0    AXABanque, Assurance, FinTech / InsurTech21889...  \n",
       "1    BNP ParibasBanque183883 collaborateursCréée en...  \n",
       "2    Renault DigitalIntelligence artificielle / Mac...  \n",
       "3    ThalesLogiciels, Cybersécurité, Aéronautique /...  \n",
       "4    Groupe BPCEBanque, FinTech / InsurTech, Financ...  \n",
       "..                                                 ...  \n",
       "345  MetroscopeLogiciels, Intelligence artificielle...  \n",
       "346  MicropoleIT / Digital1200 collaborateursCréée ...  \n",
       "347  OranoIngénieries Spécialisées, Energie17500 co...  \n",
       "348  MicropoleIT / Digital1200 collaborateursCréée ...  \n",
       "349  MicropoleIT / Digital1200 collaborateursCréée ...  \n",
       "\n",
       "[350 rows x 3 columns]"
      ]
     },
     "execution_count": 43,
     "metadata": {},
     "output_type": "execute_result"
    }
   ],
   "source": [
    "df"
   ]
  },
  {
   "cell_type": "code",
   "execution_count": 47,
   "id": "60bde6d2-3334-41bc-805c-448088c8ba89",
   "metadata": {},
   "outputs": [],
   "source": [
    "df.to_csv(f'Base_Final.csv', index=False, encoding='utf-8')\n"
   ]
  }
 ],
 "metadata": {
  "kernelspec": {
   "display_name": "Python 3 (ipykernel)",
   "language": "python",
   "name": "python3"
  },
  "language_info": {
   "codemirror_mode": {
    "name": "ipython",
    "version": 3
   },
   "file_extension": ".py",
   "mimetype": "text/x-python",
   "name": "python",
   "nbconvert_exporter": "python",
   "pygments_lexer": "ipython3",
   "version": "3.11.7"
  }
 },
 "nbformat": 4,
 "nbformat_minor": 5
}
